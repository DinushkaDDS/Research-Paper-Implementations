{
 "cells": [
  {
   "cell_type": "code",
   "execution_count": 1,
   "metadata": {},
   "outputs": [],
   "source": [
    "from tensorflow.io import read_file\n",
    "from tensorflow.image import decode_jpeg, convert_image_dtype, resize\n",
    "from tensorflow import reshape\n",
    "import tensorflow as tf\n",
    "import json\n",
    "import numpy as np"
   ]
  },
  {
   "cell_type": "code",
   "execution_count": 2,
   "metadata": {},
   "outputs": [],
   "source": [
    "def read_json(json_file_path):\n",
    "\n",
    "    with open(json_file_path, 'r') as f:\n",
    "        data = json.load(f)\n",
    "    return data"
   ]
  },
  {
   "cell_type": "code",
   "execution_count": 4,
   "metadata": {},
   "outputs": [],
   "source": [
    "def get_image_data(data_dict, base_img_dir = 'Data/ship/'):\n",
    "    '''\n",
    "        Implement the function to get the image path and corresponding camera transformation matrix.\n",
    "    '''\n",
    "\n",
    "    img_paths = []\n",
    "    img_cam_transform_matrices = []\n",
    "\n",
    "    all_frames = data_dict[\"frames\"]\n",
    "\n",
    "\n",
    "    return"
   ]
  },
  {
   "cell_type": "code",
   "execution_count": 2,
   "metadata": {},
   "outputs": [],
   "source": [
    "class getImage():\n",
    "\tdef __init__(self, imageWidth, imageHeight):\n",
    "\n",
    "\t\tself.imageWidth = imageWidth\n",
    "\t\tself.imageHeight = imageHeight\n",
    "\n",
    "\tdef __call__(self, imagePath):\n",
    "\n",
    "\t\timage = read_file(imagePath)\n",
    "\t\timage = decode_jpeg(image, 3)\n",
    "\t\timage = convert_image_dtype(image, dtype=tf.float32)\n",
    "\t\timage = resize(image, (self.imageWidth, self.imageHeight))\n",
    "\t\timage = reshape(image, (self.imageWidth, self.imageHeight, 3))\n",
    "\n",
    "\t\treturn image"
   ]
  },
  {
   "cell_type": "code",
   "execution_count": null,
   "metadata": {},
   "outputs": [],
   "source": [
    "def get_rays_for_image_matrix(width, height, camera2world_matrix, focal_length):\n",
    "\n",
    "    r_mat = camera2world_matrix[:3, :3]\n",
    "    o_vec = camera2world_matrix[:3, -1:]\n",
    "\n",
    "    i, j =  np.meshgrid(\n",
    "            np.arange(height, dtype=np.float32),\n",
    "            np.arange(width, dtype=np.float32),\n",
    "                        indexing='ij')\n",
    "\n",
    "    vector_x = j - width*0.5\n",
    "    vector_y = - (i - height*0.5)\n",
    "    vector_z = - np.ones_like(vector_x)*focal_length\n",
    "\n",
    "    dirs = np.stack((vector_x, vector_y, vector_z), axis=2)\n",
    "    ray_dirs = np.sum(r_mat * dirs[:, :, None, :], axis=3)\n",
    "\n",
    "    origins = np.ones_like(ray_dirs)*o_vec.squeeze()\n",
    "\n",
    "    return ray_dirs, origins"
   ]
  },
  {
   "cell_type": "code",
   "execution_count": 1,
   "metadata": {},
   "outputs": [],
   "source": [
    "def get_sampled_ray_points(ray_dirs, near=1, far=10, num_samples=20):\n",
    "\n",
    "    bins = np.linspace(near, far, num_samples)\n",
    "    ran_samples = np.random.uniform(size=(list(ray_dirs.shape[:-1])+[num_samples]))  # generate random samples for each point of the input matrix\n",
    "    scaled_ran_samples = ran_samples*(far-near)/num_samples\n",
    "    ray_samples = scaled_ran_samples + np.broadcast_to(bins, shape=(list(ray_dirs.shape[:-1])+[num_samples]))\n",
    "\n",
    "    return ray_samples"
   ]
  },
  {
   "cell_type": "code",
   "execution_count": null,
   "metadata": {},
   "outputs": [],
   "source": [
    "import tensorflow as tf\n",
    "class NeRFModel(tf.Module):\n",
    "\n",
    "    def __init__(self, name=None):\n",
    "        super().__init__(name)\n",
    "\n",
    "        \n",
    "\n",
    "\n",
    "\n",
    "\n",
    "\n",
    "    pass"
   ]
  },
  {
   "cell_type": "code",
   "execution_count": null,
   "metadata": {},
   "outputs": [],
   "source": []
  },
  {
   "cell_type": "code",
   "execution_count": null,
   "metadata": {},
   "outputs": [],
   "source": []
  },
  {
   "cell_type": "code",
   "execution_count": null,
   "metadata": {},
   "outputs": [],
   "source": []
  },
  {
   "cell_type": "code",
   "execution_count": null,
   "metadata": {},
   "outputs": [],
   "source": []
  },
  {
   "cell_type": "code",
   "execution_count": null,
   "metadata": {},
   "outputs": [],
   "source": []
  },
  {
   "cell_type": "code",
   "execution_count": null,
   "metadata": {},
   "outputs": [],
   "source": []
  },
  {
   "cell_type": "code",
   "execution_count": null,
   "metadata": {},
   "outputs": [],
   "source": []
  }
 ],
 "metadata": {
  "kernelspec": {
   "display_name": "Python 3.9.7 64-bit",
   "language": "python",
   "name": "python3"
  },
  "language_info": {
   "codemirror_mode": {
    "name": "ipython",
    "version": 3
   },
   "file_extension": ".py",
   "mimetype": "text/x-python",
   "name": "python",
   "nbconvert_exporter": "python",
   "pygments_lexer": "ipython3",
   "version": "3.9.7"
  },
  "orig_nbformat": 4,
  "vscode": {
   "interpreter": {
    "hash": "68acd5d746db9e112a7343296bb3423d1ae6da35b5d50d333630681f8a968c1e"
   }
  }
 },
 "nbformat": 4,
 "nbformat_minor": 2
}
