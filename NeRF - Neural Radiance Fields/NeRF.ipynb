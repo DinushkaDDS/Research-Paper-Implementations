{
 "cells": [
  {
   "cell_type": "code",
   "execution_count": 1,
   "metadata": {},
   "outputs": [],
   "source": [
    "from tensorflow.io import read_file\n",
    "from tensorflow.image import decode_jpeg, convert_image_dtype, resize\n",
    "from tensorflow import reshape\n",
    "import tensorflow as tf\n",
    "import json"
   ]
  },
  {
   "cell_type": "code",
   "execution_count": 2,
   "metadata": {},
   "outputs": [],
   "source": [
    "def read_json(json_file_path):\n",
    "\n",
    "    with open(json_file_path, 'r') as f:\n",
    "        data = json.load(f)\n",
    "    return data"
   ]
  },
  {
   "cell_type": "code",
   "execution_count": 4,
   "metadata": {},
   "outputs": [],
   "source": [
    "def get_image_data(data_dict, base_img_dir = '\"Data/ship/'):\n",
    "    '''\n",
    "        Implement the function to get the image path and corresponding camera transformation matrix.\n",
    "    '''\n",
    "\n",
    "    img_paths = []\n",
    "    img_cam_transform_matrices = []\n",
    "\n",
    "    all_frames = data_dict[\"frames\"]\n",
    "\n",
    "\n",
    "    return"
   ]
  },
  {
   "cell_type": "code",
   "execution_count": 6,
   "metadata": {},
   "outputs": [],
   "source": [
    "class Image():\n",
    "\tdef __init__(self, imageWidth, imageHeight):\n",
    "\n",
    "\t\tself.imageWidth = imageWidth\n",
    "\t\tself.imageHeight = imageHeight\n",
    "\n",
    "\tdef __call__(self, imagePath):\n",
    "\n",
    "\t\timage = read_file(imagePath)\n",
    "\t\timage = decode_jpeg(image, 3)\n",
    "\t\timage = convert_image_dtype(image, dtype=tf.float32)\n",
    "\t\timage = resize(image, (self.imageWidth, self.imageHeight))\n",
    "\t\timage = reshape(image, (self.imageWidth, self.imageHeight, 3))\n",
    "\n",
    "\t\treturn image"
   ]
  },
  {
   "cell_type": "code",
   "execution_count": null,
   "metadata": {},
   "outputs": [],
   "source": []
  },
  {
   "cell_type": "code",
   "execution_count": null,
   "metadata": {},
   "outputs": [],
   "source": []
  },
  {
   "cell_type": "code",
   "execution_count": null,
   "metadata": {},
   "outputs": [],
   "source": []
  },
  {
   "cell_type": "code",
   "execution_count": null,
   "metadata": {},
   "outputs": [],
   "source": []
  },
  {
   "cell_type": "code",
   "execution_count": null,
   "metadata": {},
   "outputs": [],
   "source": []
  },
  {
   "cell_type": "code",
   "execution_count": null,
   "metadata": {},
   "outputs": [],
   "source": []
  },
  {
   "cell_type": "code",
   "execution_count": null,
   "metadata": {},
   "outputs": [],
   "source": []
  }
 ],
 "metadata": {
  "kernelspec": {
   "display_name": "Python 3.9.7 64-bit",
   "language": "python",
   "name": "python3"
  },
  "language_info": {
   "codemirror_mode": {
    "name": "ipython",
    "version": 3
   },
   "file_extension": ".py",
   "mimetype": "text/x-python",
   "name": "python",
   "nbconvert_exporter": "python",
   "pygments_lexer": "ipython3",
   "version": "3.9.7"
  },
  "orig_nbformat": 4,
  "vscode": {
   "interpreter": {
    "hash": "68acd5d746db9e112a7343296bb3423d1ae6da35b5d50d333630681f8a968c1e"
   }
  }
 },
 "nbformat": 4,
 "nbformat_minor": 2
}
