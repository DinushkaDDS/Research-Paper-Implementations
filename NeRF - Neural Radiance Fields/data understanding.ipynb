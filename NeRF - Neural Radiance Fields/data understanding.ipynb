{
 "cells": [
  {
   "cell_type": "code",
   "execution_count": 1,
   "metadata": {},
   "outputs": [
    {
     "name": "stdout",
     "output_type": "stream",
     "text": [
      "Field of view in X direction - train: 0.6911112070083618\n",
      "Number of frames - train: 100\n"
     ]
    }
   ],
   "source": [
    "import json\n",
    "import numpy as np\n",
    "import cv2\n",
    "\n",
    "jsonTrainFile = \"Data/ship/transforms_train.json\"\n",
    "\n",
    "with open(jsonTrainFile, \"r\") as fp:\n",
    "    jsonTrainData = json.load(fp)\n",
    "\n",
    "print(f\"Field of view in X direction - train: {jsonTrainData['camera_angle_x']}\")\n",
    "print(f\"Number of frames - train: {len(jsonTrainData['frames'])}\")"
   ]
  },
  {
   "cell_type": "code",
   "execution_count": 2,
   "metadata": {},
   "outputs": [
    {
     "name": "stdout",
     "output_type": "stream",
     "text": [
      "[[-4.65905853e-02  1.75296515e-01 -9.83412623e-01 -3.96426296e+00]\n",
      " [-9.98914063e-01 -8.17604642e-03  4.58675772e-02  1.84898108e-01]\n",
      " [-9.31322575e-10  9.84481692e-01  1.75487086e-01  7.07411051e-01]\n",
      " [ 0.00000000e+00  0.00000000e+00  0.00000000e+00  1.00000000e+00]]\n",
      "./train/r_0\n",
      "Rotation 0.012566370614359171\n"
     ]
    }
   ],
   "source": [
    "first_frame = jsonTrainData[\"frames\"][0]\n",
    "\n",
    "# transformation matrix and related image\n",
    "transform_matix = np.array(first_frame[\"transform_matrix\"])\n",
    "file_name = first_frame[\"file_path\"]\n",
    "\n",
    "print(transform_matix)  # This the Camera-World transform matrix for the respective image.\n",
    "print(file_name)  # Respective image file path\n",
    "print(f\"Rotation {first_frame['rotation']}\")"
   ]
  },
  {
   "cell_type": "code",
   "execution_count": 3,
   "metadata": {},
   "outputs": [
    {
     "data": {
      "text/plain": [
       "-1"
      ]
     },
     "execution_count": 3,
     "metadata": {},
     "output_type": "execute_result"
    }
   ],
   "source": [
    "img = cv2.imread('Data/ship/train/r_0.png')\n",
    "cv2.imshow('image', img)\n",
    "cv2.waitKey(0)"
   ]
  },
  {
   "cell_type": "code",
   "execution_count": null,
   "metadata": {},
   "outputs": [],
   "source": []
  },
  {
   "cell_type": "code",
   "execution_count": null,
   "metadata": {},
   "outputs": [],
   "source": []
  },
  {
   "cell_type": "code",
   "execution_count": null,
   "metadata": {},
   "outputs": [],
   "source": []
  },
  {
   "cell_type": "code",
   "execution_count": null,
   "metadata": {},
   "outputs": [],
   "source": []
  }
 ],
 "metadata": {
  "kernelspec": {
   "display_name": "Python 3.9.7 64-bit",
   "language": "python",
   "name": "python3"
  },
  "language_info": {
   "codemirror_mode": {
    "name": "ipython",
    "version": 3
   },
   "file_extension": ".py",
   "mimetype": "text/x-python",
   "name": "python",
   "nbconvert_exporter": "python",
   "pygments_lexer": "ipython3",
   "version": "3.9.7"
  },
  "orig_nbformat": 4,
  "vscode": {
   "interpreter": {
    "hash": "68acd5d746db9e112a7343296bb3423d1ae6da35b5d50d333630681f8a968c1e"
   }
  }
 },
 "nbformat": 4,
 "nbformat_minor": 2
}
